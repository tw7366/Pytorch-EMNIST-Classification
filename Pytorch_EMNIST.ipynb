{
 "cells": [
  {
   "cell_type": "code",
   "execution_count": 1,
   "metadata": {},
   "outputs": [],
   "source": [
    "import torch\n",
    "import torchvision\n",
    "from torchvision import transforms, datasets\n",
    "from torchvision.transforms import Normalize, ToTensor\n",
    "import torch.nn as nn  # neural network\n",
    "import torch.optim as optim  # optimization layer\n",
    "import torch.nn.functional as F  # activation functions\n",
    "import matplotlib.pyplot as plt\n",
    "import argparse"
   ]
  },
  {
   "cell_type": "code",
   "execution_count": 2,
   "metadata": {},
   "outputs": [
    {
     "name": "stdout",
     "output_type": "stream",
     "text": [
      "train set size: 90240, validation set size: 22560\n"
     ]
    }
   ],
   "source": [
    "train_set = datasets.EMNIST(root=\"data\", split=\"balanced\",\n",
    "                        train=True, download=True,\n",
    "                        transform=transforms.Compose([ToTensor()])\n",
    "                           )\n",
    "\n",
    "test_set = datasets.EMNIST(root=\"data\", split=\"balanced\", \n",
    "                       train=False, download=True, \n",
    "                       transform=transforms.Compose([ToTensor()])\n",
    "                          )\n",
    "\n",
    "entire_trainset = torch.utils.data.DataLoader(train_set, shuffle=True)\n",
    "split_train_size = int(0.8*(len(entire_trainset)))\n",
    "split_valid_size = len(entire_trainset) - split_train_size\n",
    "\n",
    "train_set, val_set = torch.utils.data.random_split(entire_trainset, [split_train_size, split_valid_size])\n",
    "\n",
    "print(f'train set size: {split_train_size}, validation set size: {split_valid_size}')"
   ]
  },
  {
   "cell_type": "code",
   "execution_count": 3,
   "metadata": {},
   "outputs": [
    {
     "name": "stdout",
     "output_type": "stream",
     "text": [
      "Namespace(act='relu', dropout=0.2, epoch=10, in_channels=1, in_dim=1, lr=0.001, model_code='model_1', optim='adam', out_dim=62, test_batch=256, train_batch=256, use_bn=True)\n"
     ]
    }
   ],
   "source": [
    "parser = argparse.ArgumentParser()\n",
    "args = parser.parse_args(\"\")\n",
    "\n",
    "#### Model Capacity ####\n",
    "args.model_code = 'model_1'\n",
    "args.in_channels = 1\n",
    "args.in_dim = 1  # input to a fc layer from the last conv layer\n",
    "args.out_dim = 62\n",
    "args.act = 'relu'\n",
    "\n",
    "#### Regularization ####\n",
    "args.dropout = 0.2\n",
    "args.use_bn = True\n",
    "# args.use_xavier = True\n",
    "\n",
    "#### Optimization ####\n",
    "args.optim = 'adam'\n",
    "args.lr = 0.001  # learning rate\n",
    "args.epoch = 10\n",
    "args.train_batch = 256\n",
    "args.test_batch = 256\n",
    "\n",
    "print(args)"
   ]
  },
  {
   "cell_type": "code",
   "execution_count": 4,
   "metadata": {},
   "outputs": [],
   "source": [
    "model_codes = {\n",
    "    'model_1': [16, 64, 'M', 128, 128],\n",
    "    'model_2': [16, 64, 'M', 128, 128, 'M', 256, 256],\n",
    "    'model_3': [64, 64, 'M', 128, 128, 'M', 256, 256, 'M', 512, 512]\n",
    "}"
   ]
  },
  {
   "cell_type": "code",
   "execution_count": 5,
   "metadata": {},
   "outputs": [],
   "source": [
    "# simple model\n",
    "class Net(nn.Module):\n",
    "    def __init__(self):\n",
    "        super(Net, self).__init__()\n",
    "        # 3 convolutional layers\n",
    "        self.cv1 = nn.Conv2d(in_channel=1,out_channels=16,kernel_size=5, stride=1)  # input: 1 if grayscale, 3 if RGB\n",
    "        self.cv2 = nn.Conv2d(16, 64, 5)\n",
    "        self.cv3 = nn.Conv2d(64, 128, 5)\n",
    "        self.dropout1 = nn.Dropout(0.2)\n",
    "        \n",
    "        # Dense layer - (fully connected)\n",
    "        self.fc1 = nn.Linear(in_features=128*3*3, out_features=256)\n",
    "        self.fc2 = nn.Linear(in_features=256, out_features=128)\n",
    "        self.out = nn.Linear(in_features=128, out_features=47)\n",
    "        \n",
    "    def forward(self, x):\n",
    "        '''\n",
    "        forward method explicitly defines the network's transformation.\n",
    "        forward method maps an input tensor to a prediction output tensor\n",
    "        '''\n",
    "        # hidden convolutional layers\n",
    "        x = F.relu(self.cv1(x))\n",
    "        x = F.relu(self.cv2(x))\n",
    "        x = F.max_pool2d(x, kernel_size=2, stride=2)\n",
    "        x = F.relu(self.cv3(x))\n",
    "        x = F.max_pool2d(x, kernel_size=2, stride=2)\n",
    "        \n",
    "        x = self.dropout1(x)\n",
    "        \n",
    "        # hidden linear layers\n",
    "        x = torch.flatten(x, 1)\n",
    "        #x = x.view(-1, 128*3*3)\n",
    "        x = F.relu(self.fc1(x))\n",
    "        x = F.relu(self.fc2(x))\n",
    "        \n",
    "        # output layer\n",
    "        x = self.out(x)\n",
    "        x = F.softmax(x, dim=1)\n",
    "        \n",
    "        return x"
   ]
  },
  {
   "cell_type": "markdown",
   "metadata": {},
   "source": [
    "How to find the initial input size of dense layer\n",
    "window size (kernel)^2 x output channel of the last channel (128)\n",
    "\n",
    "To find window of the last convolutional layer\n",
    "(input size (28) - kernel size - 2*padding)/stride + 1\n",
    "* first layer: (28-5-0)/1 + 1 = 24\n",
    "* second layer: (24-5-0)/1 + 1 = 20 -> after maxpooing -> 10\n",
    "* third layer: (10-5-0)/1 + 1 = 6 -> after maxpooling -> 3"
   ]
  },
  {
   "cell_type": "code",
   "execution_count": 6,
   "metadata": {},
   "outputs": [],
   "source": [
    "# easily tunable model\n",
    "class CNN(nn.Module):\n",
    "    def __init__(self, model_code, in_channels, out_dim, act, use_bn, dropout):\n",
    "        super(CNN, self).__init__()\n",
    "        \n",
    "        if act == 'relu':\n",
    "            self.act = nn.ReLU()\n",
    "        elif act == 'sigmoid':\n",
    "            self.act = nn.Sigmoid()\n",
    "        elif act == 'leakyrelu':\n",
    "            self.act = nn.LeakyReLU()\n",
    "        else:\n",
    "            raise ValueError(\"Not a valid activation function\")\n",
    "            \n",
    "        \n",
    "        self.layers = self.make_layers(model_code, in_channels, use_bn)\n",
    "        self.dropout = nn.Dropout(dropout)\n",
    "        self.classifier = nn.Sequential(nn.Linear(12544, 256), self.act,nn.Linear(256, out_dim))\n",
    "\n",
    "    def forward(self, x):\n",
    "        x = self.layers(x)\n",
    "        x = self.dropout(x)\n",
    "        x = torch.flatten(x, 1)\n",
    "        x = self.classifier(x)\n",
    "        # skipped softmax to use cross entropy loss\n",
    "        return x\n",
    "    \n",
    "    def make_layers(self, model_code, in_channels, use_bn):\n",
    "        layers = []\n",
    "        for x in model_codes[model_code]:\n",
    "            if x == \"M\":\n",
    "                layers += [nn.MaxPool2d(kernel_size=2, stride=2)]\n",
    "            else:\n",
    "                layers += [nn.Conv2d(in_channels=in_channels,\n",
    "                                    out_channels=x,\n",
    "                                    kernel_size=3,\n",
    "                                    stride=1,\n",
    "                                    padding=1)]\n",
    "                if use_bn:\n",
    "                    layers += [nn.BatchNorm2d(x)]\n",
    "                layers += [self.act]\n",
    "                in_channels = x\n",
    "        return nn.Sequential(*layers)"
   ]
  },
  {
   "cell_type": "markdown",
   "metadata": {},
   "source": [
    "# Train, Validate, Test"
   ]
  },
  {
   "cell_type": "code",
   "execution_count": 7,
   "metadata": {},
   "outputs": [],
   "source": [
    "net = CNN(args.model_code, args.in_channels, args.out_dim, args.act, args.use_bn, args.dropout)\n",
    "optimizer = optim.Adam(net.parameters(), lr=args.lr) # learning rate\n",
    "loss_function = nn.CrossEntropyLoss()"
   ]
  },
  {
   "cell_type": "code",
   "execution_count": 8,
   "metadata": {},
   "outputs": [],
   "source": [
    "def train(net, optimizer, criterion, args):\n",
    "    # load train set as some other object that can help on iterating over data \n",
    "    train_loader = torch.utils.data.DataLoader(train_set, batch_size=args.train_batch, shuffle=True)\n",
    "    \n",
    "    net.train()\n",
    "    \n",
    "    correct = 0\n",
    "    total = 0\n",
    "    train_loss = 0\n",
    "    \n",
    "    for i, data in enumerate(train_loader):\n",
    "        inputs, labels = data\n",
    "        outputs = net(inputs)\n",
    "        \n",
    "        optimizer.zero_grad()\n",
    "        \n",
    "        loss = criterion(outputs, labels)\n",
    "        loss.backward()\n",
    "        optimizer.step()\n",
    "        \n",
    "        train_loss += loss.item()\n",
    "        \n",
    "        # the class with the highest value is the prediction\n",
    "        _, prediction = torch.max(outputs.data, 1)  # grab prediction as one-dimensional tensor\n",
    "        total += labels.size(0)\n",
    "        correct += (prediction == labels).sum().item()\n",
    "\n",
    "    train_loss = train_loss / len(train_loader)\n",
    "    train_acc = 100 * correct / total\n",
    "    \n",
    "    return net, train_loss, train_acc"
   ]
  },
  {
   "cell_type": "code",
   "execution_count": 9,
   "metadata": {},
   "outputs": [],
   "source": [
    "def validate(net, criterion, args):\n",
    "    # load validation set as some other object that can help on iterating over data \n",
    "    val_loader = torch.utils.data.DataLoader(val_set, batch_size=args.test_batch, shuffle=True)\n",
    "    \n",
    "    net.eval()\n",
    "\n",
    "    correct = 0\n",
    "    total = 0\n",
    "    val_loss = 0 \n",
    "    \n",
    "    with torch.no_grad():\n",
    "        for data in valloader:\n",
    "            inputs, labels = data\n",
    "            outputs = net(images)\n",
    "\n",
    "            loss = criterion(outputs, labels)\n",
    "            \n",
    "            val_loss += loss.item()\n",
    "            _, prediction = torch.max(outputs.data, 1)\n",
    "            total += labels.size(0)\n",
    "            correct += (prediction == labels).sum().item()\n",
    "\n",
    "        val_loss = val_loss / len(val_loader)\n",
    "        val_acc = 100 * correct / total\n",
    "\n",
    "    return val_loss, val_acc"
   ]
  },
  {
   "cell_type": "code",
   "execution_count": 10,
   "metadata": {},
   "outputs": [],
   "source": [
    "def test(net):\n",
    "    # load test as some other object that can help on iterating over data \n",
    "    test_loader = torch.utils.data.DataLoader(test_set, batch_size=args.test_batch, shuffle=True)\n",
    "    pass"
   ]
  }
 ],
 "metadata": {
  "kernelspec": {
   "display_name": "Python 3",
   "language": "python",
   "name": "python3"
  },
  "language_info": {
   "codemirror_mode": {
    "name": "ipython",
    "version": 3
   },
   "file_extension": ".py",
   "mimetype": "text/x-python",
   "name": "python",
   "nbconvert_exporter": "python",
   "pygments_lexer": "ipython3",
   "version": "3.8.3"
  }
 },
 "nbformat": 4,
 "nbformat_minor": 4
}
